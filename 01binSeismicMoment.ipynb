{
 "cells": [
  {
   "cell_type": "code",
   "execution_count": 161,
   "metadata": {
    "collapsed": true
   },
   "outputs": [],
   "source": [
    "import pandas as pd\n",
    "import numpy as np\n",
    "import matplotlib.pyplot as plt"
   ]
  },
  {
   "cell_type": "code",
   "execution_count": 178,
   "metadata": {
    "collapsed": false
   },
   "outputs": [
    {
     "data": {
      "text/html": [
       "<div>\n",
       "<table border=\"1\" class=\"dataframe\">\n",
       "  <thead>\n",
       "    <tr style=\"text-align: right;\">\n",
       "      <th></th>\n",
       "      <th>time</th>\n",
       "      <th>latitude</th>\n",
       "      <th>longitude</th>\n",
       "      <th>depth</th>\n",
       "      <th>mag</th>\n",
       "      <th>magType</th>\n",
       "      <th>M0</th>\n",
       "      <th>Mw</th>\n",
       "    </tr>\n",
       "  </thead>\n",
       "  <tbody>\n",
       "    <tr>\n",
       "      <th>0</th>\n",
       "      <td>1990-05-20T02:22:01.620Z</td>\n",
       "      <td>5.121</td>\n",
       "      <td>32.145</td>\n",
       "      <td>14.9</td>\n",
       "      <td>7.2</td>\n",
       "      <td>mw</td>\n",
       "      <td>26.90</td>\n",
       "      <td>7.200</td>\n",
       "    </tr>\n",
       "    <tr>\n",
       "      <th>1</th>\n",
       "      <td>1990-05-24T20:00:08.190Z</td>\n",
       "      <td>5.358</td>\n",
       "      <td>31.848</td>\n",
       "      <td>16.0</td>\n",
       "      <td>7.1</td>\n",
       "      <td>mw</td>\n",
       "      <td>26.75</td>\n",
       "      <td>7.100</td>\n",
       "    </tr>\n",
       "    <tr>\n",
       "      <th>2</th>\n",
       "      <td>2006-02-22T22:19:07.800Z</td>\n",
       "      <td>-21.324</td>\n",
       "      <td>33.583</td>\n",
       "      <td>11.0</td>\n",
       "      <td>7.0</td>\n",
       "      <td>mwb</td>\n",
       "      <td>26.60</td>\n",
       "      <td>7.000</td>\n",
       "    </tr>\n",
       "    <tr>\n",
       "      <th>3</th>\n",
       "      <td>2005-12-05T12:19:56.620Z</td>\n",
       "      <td>-6.224</td>\n",
       "      <td>29.830</td>\n",
       "      <td>22.0</td>\n",
       "      <td>6.8</td>\n",
       "      <td>mwc</td>\n",
       "      <td>26.30</td>\n",
       "      <td>6.800</td>\n",
       "    </tr>\n",
       "    <tr>\n",
       "      <th>4</th>\n",
       "      <td>1977-12-28T02:45:36.700Z</td>\n",
       "      <td>16.659</td>\n",
       "      <td>40.278</td>\n",
       "      <td>33.0</td>\n",
       "      <td>6.6</td>\n",
       "      <td>ms</td>\n",
       "      <td>25.59</td>\n",
       "      <td>6.492</td>\n",
       "    </tr>\n",
       "  </tbody>\n",
       "</table>\n",
       "</div>"
      ],
      "text/plain": [
       "                       time  latitude  longitude  depth  mag magType     M0  \\\n",
       "0  1990-05-20T02:22:01.620Z     5.121     32.145   14.9  7.2      mw  26.90   \n",
       "1  1990-05-24T20:00:08.190Z     5.358     31.848   16.0  7.1      mw  26.75   \n",
       "2  2006-02-22T22:19:07.800Z   -21.324     33.583   11.0  7.0     mwb  26.60   \n",
       "3  2005-12-05T12:19:56.620Z    -6.224     29.830   22.0  6.8     mwc  26.30   \n",
       "4  1977-12-28T02:45:36.700Z    16.659     40.278   33.0  6.6      ms  25.59   \n",
       "\n",
       "      Mw  \n",
       "0  7.200  \n",
       "1  7.100  \n",
       "2  7.000  \n",
       "3  6.800  \n",
       "4  6.492  "
      ]
     },
     "execution_count": 178,
     "metadata": {},
     "output_type": "execute_result"
    }
   ],
   "source": [
    "lon_min = 10;\n",
    "lon_max = 55;\n",
    "lat_min = -35;\n",
    "lat_max = 20;\n",
    "step=0.5;\n",
    "lon_bins=np.arange(lon_min,lon_max,step)\n",
    "lat_bins=np.arange(lat_min,lat_max,step)\n",
    "\n",
    "M0 = np.zeros([len(lon_bins),len(lat_bins)])\n",
    "logfile=open('.01log','w')\n",
    "\n",
    "neicCat='./data/NEIC_Africa_gt4_5_short.csv'\n",
    "cat = pd.read_csv(neicCat)\n",
    "cat[0:5]"
   ]
  },
  {
   "cell_type": "code",
   "execution_count": 179,
   "metadata": {
    "collapsed": false,
    "scrolled": true
   },
   "outputs": [],
   "source": [
    "for xi,x in enumerate(lon_bins):\n",
    "    for yi,y in enumerate(lat_bins):\n",
    "        filter = ((cat['longitude']>=x)\n",
    "                    & (cat['longitude']<(x+step))\n",
    "                    & (cat['latitude']>=y)\n",
    "                    & (cat['latitude']<(y+step)))\n",
    "        M0[xi,yi] = sum([float(m) for m in cat[filter]['M0']])"
   ]
  },
  {
   "cell_type": "code",
   "execution_count": 222,
   "metadata": {
    "collapsed": false
   },
   "outputs": [
    {
     "data": {
      "image/png": "[encoded data removed]",
      "text/plain": [
       "<matplotlib.figure.Figure at 0x1136a9a90>"
      ]
     },
     "metadata": {},
     "output_type": "display_data"
    }
   ],
   "source": [
    "fig, ax = plt.subplots(figsize=(10,10))\n",
    "cax = ax.imshow(np.flipud(M0.transpose()), \n",
    "          cmap=plt.cm.hot_r, \n",
    "          interpolation='None',\n",
    "          clim=([0,100]))\n",
    "cbar = fig.colorbar(cax)\n",
    "# cbar.ax.set_xticklabels(['Low', 'Medium', 'High'])  # horizontal colorbar\n"
   ]
  },
  {
   "cell_type": "code",
   "execution_count": null,
   "metadata": {
    "collapsed": true
   },
   "outputs": [],
   "source": [
    ".get_events()\n",
    "\n",
    "[V,D]=eig(M)"
   ]
  }
 ],
 "metadata": {
  "anaconda-cloud": {},
  "kernelspec": {
   "display_name": "Python [Root]",
   "language": "python",
   "name": "Python [Root]"
  },
  "language_info": {
   "codemirror_mode": {
    "name": "ipython",
    "version": 3
   },
   "file_extension": ".py",
   "mimetype": "text/x-python",
   "name": "python",
   "nbconvert_exporter": "python",
   "pygments_lexer": "ipython3",
   "version": "3.5.1"
  }
 },
 "nbformat": 4,
 "nbformat_minor": 0
}
